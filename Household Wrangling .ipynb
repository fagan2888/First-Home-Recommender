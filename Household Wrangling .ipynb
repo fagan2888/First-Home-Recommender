{
 "cells": [
  {
   "cell_type": "code",
   "execution_count": 1,
   "metadata": {},
   "outputs": [
    {
     "ename": "OperationalError",
     "evalue": "could not connect to server: Operation timed out\n\tIs the server running on host \"project.cgxhdwn5zb5t.us-east-1.rds.amazonaws.com\" (34.193.96.39) and accepting\n\tTCP/IP connections on port 5432?\n",
     "output_type": "error",
     "traceback": [
      "\u001b[0;31m---------------------------------------------------------------------------\u001b[0m",
      "\u001b[0;31mOperationalError\u001b[0m                          Traceback (most recent call last)",
      "\u001b[0;32m<ipython-input-1-76237501c7a8>\u001b[0m in \u001b[0;36m<module>\u001b[0;34m\u001b[0m\n\u001b[1;32m     18\u001b[0m                         \u001b[0muser\u001b[0m \u001b[0;34m=\u001b[0m \u001b[0;34m'postgres'\u001b[0m\u001b[0;34m,\u001b[0m\u001b[0;34m\u001b[0m\u001b[0;34m\u001b[0m\u001b[0m\n\u001b[1;32m     19\u001b[0m                         \u001b[0mpassword\u001b[0m \u001b[0;34m=\u001b[0m \u001b[0;34m'Admin123'\u001b[0m\u001b[0;34m,\u001b[0m\u001b[0;34m\u001b[0m\u001b[0;34m\u001b[0m\u001b[0m\n\u001b[0;32m---> 20\u001b[0;31m                         database = 'postgres')\n\u001b[0m\u001b[1;32m     21\u001b[0m \u001b[0mcursor\u001b[0m \u001b[0;34m=\u001b[0m \u001b[0mconn\u001b[0m\u001b[0;34m.\u001b[0m\u001b[0mcursor\u001b[0m\u001b[0;34m(\u001b[0m\u001b[0;34m)\u001b[0m\u001b[0;34m\u001b[0m\u001b[0;34m\u001b[0m\u001b[0m\n",
      "\u001b[0;32m~/anaconda2/envs/py36/lib/python3.6/site-packages/psycopg2/__init__.py\u001b[0m in \u001b[0;36mconnect\u001b[0;34m(dsn, connection_factory, cursor_factory, **kwargs)\u001b[0m\n\u001b[1;32m    124\u001b[0m \u001b[0;34m\u001b[0m\u001b[0m\n\u001b[1;32m    125\u001b[0m     \u001b[0mdsn\u001b[0m \u001b[0;34m=\u001b[0m \u001b[0m_ext\u001b[0m\u001b[0;34m.\u001b[0m\u001b[0mmake_dsn\u001b[0m\u001b[0;34m(\u001b[0m\u001b[0mdsn\u001b[0m\u001b[0;34m,\u001b[0m \u001b[0;34m**\u001b[0m\u001b[0mkwargs\u001b[0m\u001b[0;34m)\u001b[0m\u001b[0;34m\u001b[0m\u001b[0;34m\u001b[0m\u001b[0m\n\u001b[0;32m--> 126\u001b[0;31m     \u001b[0mconn\u001b[0m \u001b[0;34m=\u001b[0m \u001b[0m_connect\u001b[0m\u001b[0;34m(\u001b[0m\u001b[0mdsn\u001b[0m\u001b[0;34m,\u001b[0m \u001b[0mconnection_factory\u001b[0m\u001b[0;34m=\u001b[0m\u001b[0mconnection_factory\u001b[0m\u001b[0;34m,\u001b[0m \u001b[0;34m**\u001b[0m\u001b[0mkwasync\u001b[0m\u001b[0;34m)\u001b[0m\u001b[0;34m\u001b[0m\u001b[0;34m\u001b[0m\u001b[0m\n\u001b[0m\u001b[1;32m    127\u001b[0m     \u001b[0;32mif\u001b[0m \u001b[0mcursor_factory\u001b[0m \u001b[0;32mis\u001b[0m \u001b[0;32mnot\u001b[0m \u001b[0;32mNone\u001b[0m\u001b[0;34m:\u001b[0m\u001b[0;34m\u001b[0m\u001b[0;34m\u001b[0m\u001b[0m\n\u001b[1;32m    128\u001b[0m         \u001b[0mconn\u001b[0m\u001b[0;34m.\u001b[0m\u001b[0mcursor_factory\u001b[0m \u001b[0;34m=\u001b[0m \u001b[0mcursor_factory\u001b[0m\u001b[0;34m\u001b[0m\u001b[0;34m\u001b[0m\u001b[0m\n",
      "\u001b[0;31mOperationalError\u001b[0m: could not connect to server: Operation timed out\n\tIs the server running on host \"project.cgxhdwn5zb5t.us-east-1.rds.amazonaws.com\" (34.193.96.39) and accepting\n\tTCP/IP connections on port 5432?\n"
     ]
    }
   ],
   "source": [
    "import psycopg2\n",
    "import pandas as pd\n",
    "import numpy as np\n",
    "import os\n",
    "import seaborn as sns\n",
    "import matplotlib.pyplot as plt\n",
    "sns.set(style=\"ticks\", color_codes=True)\n",
    "\n",
    "\n",
    "# Tell MatPlotLib to draw plots inline with the code outputs\n",
    "%matplotlib inline\n",
    "\n",
    "%config InlineBackend.figure_format = 'retina'\n",
    "\n",
    "conn = psycopg2.connect( \n",
    "                        host = 'project.cgxhdwn5zb5t.us-east-1.rds.amazonaws.com',\n",
    "                        port = 5432, \n",
    "                        user = 'postgres',\n",
    "                        password = 'Admin123',\n",
    "                        database = 'postgres')\n",
    "cursor = conn.cursor()"
   ]
  },
  {
   "cell_type": "code",
   "execution_count": null,
   "metadata": {},
   "outputs": [],
   "source": [
    "DEC2FLOAT = psycopg2.extensions.new_type(\n",
    "    psycopg2.extensions.DECIMAL.values,\n",
    "    'DEC2FLOAT',\n",
    "    lambda value, curs: float(value) if value is not None else None)\n",
    "psycopg2.extensions.register_type(DEC2FLOAT)"
   ]
  },
  {
   "cell_type": "code",
   "execution_count": null,
   "metadata": {},
   "outputs": [],
   "source": [
    "cursor.execute('SELECT * FROM household_181')\n",
    "rows = cursor.fetchall()\n",
    "col_names = []\n",
    "for elt in cursor.description:\n",
    "    col_names.append(elt[0])\n",
    "\n",
    "df = pd.DataFrame(data=rows, columns=col_names )"
   ]
  },
  {
   "cell_type": "code",
   "execution_count": null,
   "metadata": {},
   "outputs": [],
   "source": [
    "df.head()"
   ]
  },
  {
   "cell_type": "code",
   "execution_count": null,
   "metadata": {},
   "outputs": [],
   "source": [
    "df.info()"
   ]
  },
  {
   "cell_type": "code",
   "execution_count": null,
   "metadata": {},
   "outputs": [],
   "source": [
    "df.describe()"
   ]
  },
  {
   "cell_type": "code",
   "execution_count": null,
   "metadata": {},
   "outputs": [],
   "source": [
    "df.shape"
   ]
  },
  {
   "cell_type": "code",
   "execution_count": null,
   "metadata": {
    "scrolled": true
   },
   "outputs": [],
   "source": [
    "# Use pandas to count the number of each unique value for each state.\n",
    "neighbor_g = df.groupby('omb13cbsa')[['ratingnh']].count()\n",
    "neighbor_g = neighbor_g.sort_values('ratingnh')\n",
    "neighbor_g"
   ]
  },
  {
   "cell_type": "code",
   "execution_count": null,
   "metadata": {},
   "outputs": [],
   "source": [
    "# need help?? metro = df_neighbor[(df_neighbor['omb13cbsa'] == 99999) or (df_neighbor['omb13cbsa'] == 99998)]"
   ]
  },
  {
   "cell_type": "code",
   "execution_count": null,
   "metadata": {},
   "outputs": [],
   "source": [
    "#Unique Neighborhood Rating\n",
    "df.ratingnh.unique()"
   ]
  },
  {
   "cell_type": "code",
   "execution_count": null,
   "metadata": {},
   "outputs": [],
   "source": [
    "# Get names of indexes for which column ratingnh has value less than 0\n",
    "indexNames = df[ df['ratingnh'] < 0 ].index\n",
    " \n",
    "# Delete these row indexes from dataFrame\n",
    "df.drop(indexNames , inplace=True)"
   ]
  },
  {
   "cell_type": "code",
   "execution_count": null,
   "metadata": {},
   "outputs": [],
   "source": [
    "#Average Neighborhood rating\n",
    "df['ratingnh'].mean()"
   ]
  },
  {
   "cell_type": "markdown",
   "metadata": {},
   "source": [
    "# Visualization\n"
   ]
  },
  {
   "cell_type": "code",
   "execution_count": null,
   "metadata": {},
   "outputs": [],
   "source": [
    "fig = plt.figure(figsize=(7,10))\n",
    "ax = fig.add_subplot(212)\n",
    "ax.hist(df['ratingnh'], bins=50, range=(df['ratingnh'].min(),df['ratingnh'].max()))\n",
    "plt.title('Rating Distribution with 50 Bins')\n",
    "plt.xlabel('Rating')\n",
    "plt.ylabel('Count of Rating')\n",
    "plt.show()"
   ]
  },
  {
   "cell_type": "code",
   "execution_count": null,
   "metadata": {},
   "outputs": [],
   "source": [
    "df.ratingnh.unique()"
   ]
  },
  {
   "cell_type": "code",
   "execution_count": null,
   "metadata": {},
   "outputs": [],
   "source": [
    "#Nation-wide distribution of Satisfaction levels for NEIGHBORHOOD?\n",
    "sns.relplot(x=\"ratingnh\", y='control',data=df)"
   ]
  },
  {
   "cell_type": "code",
   "execution_count": null,
   "metadata": {},
   "outputs": [],
   "source": [
    "#filter on 47900: Washington-Arlington-Alexandria, DC-VA-MD-WV|| states only\n",
    "dmv = df[(df['omb13cbsa'] == 47900)]"
   ]
  },
  {
   "cell_type": "code",
   "execution_count": null,
   "metadata": {},
   "outputs": [],
   "source": [
    "#DMV wide distribution of Satisfaction levels for NEIGHBORHOOD?\n",
    "sns.relplot(x=\"ratingnh\", y=\"control\", data=dmv)"
   ]
  },
  {
   "cell_type": "code",
   "execution_count": null,
   "metadata": {},
   "outputs": [],
   "source": [
    "df.omb13cbsa.unique()"
   ]
  },
  {
   "cell_type": "code",
   "execution_count": null,
   "metadata": {},
   "outputs": [],
   "source": [
    "#Regression and Residual plot between total household income and neigborhood rating\n",
    "\n",
    "#tips = sns.load_dataset(\"ratingnh\")\n",
    "sns.regplot(x=\"hincp\", y=\"ratingnh\", data=df, ci=None)\n",
    "plt.title(\"Rating Regression\")\n",
    "plt.xlabel('Total Household Income', size=12)\n",
    "plt.ylabel('Neighborhood Rating', size=12)\n",
    "plt.show()\n",
    "\n",
    "sns.residplot(x=\"hincp\", y=\"ratingnh\", data=df)\n",
    "plt.title(\"Rating Residuals\")\n",
    "plt.xlabel('Total Household Income', size=12)\n",
    "plt.ylabel('Neighborhood Rating', size=12)\n",
    "plt.show()"
   ]
  },
  {
   "cell_type": "code",
   "execution_count": null,
   "metadata": {},
   "outputs": [],
   "source": [
    "# Label the state names\n",
    "LABEL_MAP = {\n",
    "    12060: \"GA\",\n",
    "    12580: \"MD\",\n",
    "    13820: \"AL\",\n",
    "    14460: \"MA-NH\",\n",
    "    16980: \"IL-IN-WI\",\n",
    "    17140: \"OH-KY-IN\",\n",
    "    17460: \"OH\",\n",
    "    19100: \"TX\",\n",
    "    19740: \"CO\",\n",
    "    19820: \"MI\",\n",
    "    26420: \"TX\",\n",
    "    28140: \"MO-KS\",\n",
    "    29820: \"NV\",\n",
    "    31080: \"CA\",\n",
    "    32820: \"TN-MS-AR\",\n",
    "    33100: \"FL\",\n",
    "    33340: \"WI\",\n",
    "    33460: \"MN-WI\",\n",
    "    35380: \"LA\",\n",
    "    35620: \"NY-NJ-PA\",\n",
    "    36420: \"OK\",\n",
    "    37980: \"PA-NJ-DE-MD\",\n",
    "    38060: \"AZ\",\n",
    "    38300: \"PA\",\n",
    "    38900: \"OR-WA\",\n",
    "    39580: \"NC\",\n",
    "    40060: \"VA\",\n",
    "    40140: \"CA\",\n",
    "    40380: \"NY\",\n",
    "    41700: \"TX\",\n",
    "    41860: \"San Francisco, CA\",\n",
    "    41940: \"San Jose-Sunnyvale-Santa Clara, CA\",\n",
    "    42660: \"WA\",\n",
    "    45300: \"Tampa-St. Petersburg-Clearwater, FL\",\n",
    "    47900: \"DC-VA-MD-WV\",\n",
    "    99998: \"All other metropolitan areas\",\n",
    "    99999: \"Not in a metropolitan area\"\n",
    "}"
   ]
  },
  {
   "cell_type": "code",
   "execution_count": null,
   "metadata": {},
   "outputs": [],
   "source": [
    "## Convert state column labels into text\n",
    "df[\"omb13cbsa\"] = df[\"omb13cbsa\"].map(LABEL_MAP)\n",
    "df[\"omb13cbsa\"]"
   ]
  },
  {
   "cell_type": "code",
   "execution_count": null,
   "metadata": {},
   "outputs": [],
   "source": [
    "f, ax = plt.subplots(figsize=(20,20))\n",
    "sns.boxplot(x='omb13cbsa', y='ratingnh', data=df, palette='vlag')\n",
    "sns.swarmplot(x='omb13cbsa', y='ratingnh', data=df, size=2, color='0.3')\n",
    "plt.title('Rating By State', size=14)\n",
    "plt.xlabel('State', size=12)\n",
    "plt.ylabel('Rating', size=12)\n",
    "plt.show()"
   ]
  },
  {
   "cell_type": "code",
   "execution_count": null,
   "metadata": {},
   "outputs": [],
   "source": []
  }
 ],
 "metadata": {
  "kernelspec": {
   "display_name": "Python 3",
   "language": "python",
   "name": "python3"
  },
  "language_info": {
   "codemirror_mode": {
    "name": "ipython",
    "version": 3
   },
   "file_extension": ".py",
   "mimetype": "text/x-python",
   "name": "python",
   "nbconvert_exporter": "python",
   "pygments_lexer": "ipython3",
   "version": "3.6.9"
  }
 },
 "nbformat": 4,
 "nbformat_minor": 2
}
