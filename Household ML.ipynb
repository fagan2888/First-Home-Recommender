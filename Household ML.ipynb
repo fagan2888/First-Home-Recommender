{
 "cells": [
  {
   "cell_type": "code",
   "execution_count": 12,
   "metadata": {},
   "outputs": [],
   "source": [
    "import psycopg2\n",
    "import pandas as pd\n",
    "import numpy as np\n",
    "import matplotlib.pyplot as plt\n",
    "import seaborn as sns\n",
    "import pprint\n",
    "import os\n",
    "import json\n",
    "import time\n",
    "import pickle\n",
    "import requests\n",
    "\n",
    "conn = psycopg2.connect( \n",
    "                        host = 'project.cgxhdwn5zb5t.us-east-1.rds.amazonaws.com',\n",
    "                        port = 5432, \n",
    "                        user = 'postgres',\n",
    "                        password = 'Admin123',\n",
    "                        database = 'postgres')\n",
    "cursor = conn.cursor()"
   ]
  },
  {
   "cell_type": "code",
   "execution_count": 13,
   "metadata": {},
   "outputs": [],
   "source": [
    "DEC2FLOAT = psycopg2.extensions.new_type(\n",
    "    psycopg2.extensions.DECIMAL.values,\n",
    "    'DEC2FLOAT',\n",
    "    lambda value, curs: float(value) if value is not None else None)\n",
    "psycopg2.extensions.register_type(DEC2FLOAT)"
   ]
  },
  {
   "cell_type": "code",
   "execution_count": 14,
   "metadata": {},
   "outputs": [],
   "source": [
    "cursor.execute('SELECT * FROM household_181')\n",
    "rows = cursor.fetchall()\n",
    "col_names = []\n",
    "for elt in cursor.description:\n",
    "    col_names.append(elt[0])\n",
    "\n",
    "household_181 = pd.DataFrame(data=rows, columns=col_names )"
   ]
  },
  {
   "cell_type": "code",
   "execution_count": 15,
   "metadata": {},
   "outputs": [
    {
     "name": "stdout",
     "output_type": "stream",
     "text": [
      "<class 'pandas.core.frame.DataFrame'>\n",
      "RangeIndex: 136245 entries, 0 to 136244\n",
      "Columns: 182 entries, control to year\n",
      "dtypes: float64(181), object(1)\n",
      "memory usage: 189.2+ MB\n"
     ]
    }
   ],
   "source": [
    "household_181.info()"
   ]
  },
  {
   "cell_type": "code",
   "execution_count": 16,
   "metadata": {},
   "outputs": [
    {
     "data": {
      "text/plain": [
       "control      float64\n",
       "omb13cbsa    float64\n",
       "division     float64\n",
       "intstatus    float64\n",
       "intmonth     float64\n",
       "              ...   \n",
       "rmhome       float64\n",
       "rmcosts      float64\n",
       "rmhood       float64\n",
       "rmother      float64\n",
       "year          object\n",
       "Length: 182, dtype: object"
      ]
     },
     "execution_count": 16,
     "metadata": {},
     "output_type": "execute_result"
    }
   ],
   "source": [
    "household_181.dtypes"
   ]
  },
  {
   "cell_type": "code",
   "execution_count": null,
   "metadata": {},
   "outputs": [],
   "source": [
    "household_181.describe()"
   ]
  },
  {
   "cell_type": "code",
   "execution_count": 5,
   "metadata": {},
   "outputs": [
    {
     "data": {
      "text/plain": [
       "155"
      ]
     },
     "execution_count": 5,
     "metadata": {},
     "output_type": "execute_result"
    }
   ],
   "source": [
    "#find the index of target column\n",
    "household_181.columns.get_loc(\"ratingnh\")"
   ]
  },
  {
   "cell_type": "code",
   "execution_count": 6,
   "metadata": {},
   "outputs": [],
   "source": [
    "#drop the target column\n",
    "df = household_181.drop(columns=['ratingnh'])"
   ]
  },
  {
   "cell_type": "code",
   "execution_count": 7,
   "metadata": {},
   "outputs": [
    {
     "data": {
      "text/html": [
       "<div>\n",
       "<style scoped>\n",
       "    .dataframe tbody tr th:only-of-type {\n",
       "        vertical-align: middle;\n",
       "    }\n",
       "\n",
       "    .dataframe tbody tr th {\n",
       "        vertical-align: top;\n",
       "    }\n",
       "\n",
       "    .dataframe thead th {\n",
       "        text-align: right;\n",
       "    }\n",
       "</style>\n",
       "<table border=\"1\" class=\"dataframe\">\n",
       "  <thead>\n",
       "    <tr style=\"text-align: right;\">\n",
       "      <th></th>\n",
       "      <th>control</th>\n",
       "      <th>omb13cbsa</th>\n",
       "      <th>division</th>\n",
       "      <th>intstatus</th>\n",
       "      <th>intmonth</th>\n",
       "      <th>intlang</th>\n",
       "      <th>intmode</th>\n",
       "      <th>permnear</th>\n",
       "      <th>vacresdays</th>\n",
       "      <th>vacrntdays</th>\n",
       "      <th>...</th>\n",
       "      <th>movforce</th>\n",
       "      <th>rmjob</th>\n",
       "      <th>rmownhh</th>\n",
       "      <th>rmfamily</th>\n",
       "      <th>rmchange</th>\n",
       "      <th>rmcommute</th>\n",
       "      <th>rmhome</th>\n",
       "      <th>rmcosts</th>\n",
       "      <th>rmhood</th>\n",
       "      <th>rmother</th>\n",
       "    </tr>\n",
       "  </thead>\n",
       "  <tbody>\n",
       "    <tr>\n",
       "      <th>count</th>\n",
       "      <td>1.362450e+05</td>\n",
       "      <td>136245.000000</td>\n",
       "      <td>136245.000000</td>\n",
       "      <td>136245.000000</td>\n",
       "      <td>136245.000000</td>\n",
       "      <td>136245.000000</td>\n",
       "      <td>136245.000000</td>\n",
       "      <td>136245.000000</td>\n",
       "      <td>136245.000000</td>\n",
       "      <td>136245.000000</td>\n",
       "      <td>...</td>\n",
       "      <td>136245.000000</td>\n",
       "      <td>136245.000000</td>\n",
       "      <td>136245.000000</td>\n",
       "      <td>136245.000000</td>\n",
       "      <td>136245.000000</td>\n",
       "      <td>136245.000000</td>\n",
       "      <td>136245.000000</td>\n",
       "      <td>136245.000000</td>\n",
       "      <td>136245.000000</td>\n",
       "      <td>136245.000000</td>\n",
       "    </tr>\n",
       "    <tr>\n",
       "      <th>mean</th>\n",
       "      <td>1.104325e+07</td>\n",
       "      <td>62040.862857</td>\n",
       "      <td>5.478014</td>\n",
       "      <td>1.245829</td>\n",
       "      <td>7.039422</td>\n",
       "      <td>0.586686</td>\n",
       "      <td>1.165973</td>\n",
       "      <td>-5.759257</td>\n",
       "      <td>-5.748776</td>\n",
       "      <td>-5.775280</td>\n",
       "      <td>...</td>\n",
       "      <td>-4.383104</td>\n",
       "      <td>-4.514646</td>\n",
       "      <td>-4.547917</td>\n",
       "      <td>-4.529216</td>\n",
       "      <td>-4.515535</td>\n",
       "      <td>-4.509597</td>\n",
       "      <td>-4.554347</td>\n",
       "      <td>-4.524151</td>\n",
       "      <td>-4.551088</td>\n",
       "      <td>-4.524247</td>\n",
       "    </tr>\n",
       "    <tr>\n",
       "      <th>std</th>\n",
       "      <td>2.483225e+04</td>\n",
       "      <td>35455.723682</td>\n",
       "      <td>2.556581</td>\n",
       "      <td>0.645094</td>\n",
       "      <td>1.409371</td>\n",
       "      <td>2.328762</td>\n",
       "      <td>2.370249</td>\n",
       "      <td>1.421780</td>\n",
       "      <td>1.559736</td>\n",
       "      <td>1.386489</td>\n",
       "      <td>...</td>\n",
       "      <td>3.260303</td>\n",
       "      <td>3.139458</td>\n",
       "      <td>3.076451</td>\n",
       "      <td>3.112814</td>\n",
       "      <td>3.139171</td>\n",
       "      <td>3.150524</td>\n",
       "      <td>3.064042</td>\n",
       "      <td>3.124800</td>\n",
       "      <td>3.074021</td>\n",
       "      <td>3.123453</td>\n",
       "    </tr>\n",
       "    <tr>\n",
       "      <th>min</th>\n",
       "      <td>1.100000e+07</td>\n",
       "      <td>12060.000000</td>\n",
       "      <td>1.000000</td>\n",
       "      <td>1.000000</td>\n",
       "      <td>4.000000</td>\n",
       "      <td>-9.000000</td>\n",
       "      <td>-9.000000</td>\n",
       "      <td>-9.000000</td>\n",
       "      <td>-9.000000</td>\n",
       "      <td>-9.000000</td>\n",
       "      <td>...</td>\n",
       "      <td>-9.000000</td>\n",
       "      <td>-9.000000</td>\n",
       "      <td>-9.000000</td>\n",
       "      <td>-9.000000</td>\n",
       "      <td>-9.000000</td>\n",
       "      <td>-9.000000</td>\n",
       "      <td>-9.000000</td>\n",
       "      <td>-9.000000</td>\n",
       "      <td>-9.000000</td>\n",
       "      <td>-9.000000</td>\n",
       "    </tr>\n",
       "    <tr>\n",
       "      <th>25%</th>\n",
       "      <td>1.102171e+07</td>\n",
       "      <td>31080.000000</td>\n",
       "      <td>3.000000</td>\n",
       "      <td>1.000000</td>\n",
       "      <td>6.000000</td>\n",
       "      <td>1.000000</td>\n",
       "      <td>1.000000</td>\n",
       "      <td>-6.000000</td>\n",
       "      <td>-6.000000</td>\n",
       "      <td>-6.000000</td>\n",
       "      <td>...</td>\n",
       "      <td>-6.000000</td>\n",
       "      <td>-6.000000</td>\n",
       "      <td>-6.000000</td>\n",
       "      <td>-6.000000</td>\n",
       "      <td>-6.000000</td>\n",
       "      <td>-6.000000</td>\n",
       "      <td>-6.000000</td>\n",
       "      <td>-6.000000</td>\n",
       "      <td>-6.000000</td>\n",
       "      <td>-6.000000</td>\n",
       "    </tr>\n",
       "    <tr>\n",
       "      <th>50%</th>\n",
       "      <td>1.104339e+07</td>\n",
       "      <td>42660.000000</td>\n",
       "      <td>5.000000</td>\n",
       "      <td>1.000000</td>\n",
       "      <td>7.000000</td>\n",
       "      <td>1.000000</td>\n",
       "      <td>2.000000</td>\n",
       "      <td>-6.000000</td>\n",
       "      <td>-6.000000</td>\n",
       "      <td>-6.000000</td>\n",
       "      <td>...</td>\n",
       "      <td>-6.000000</td>\n",
       "      <td>-6.000000</td>\n",
       "      <td>-6.000000</td>\n",
       "      <td>-6.000000</td>\n",
       "      <td>-6.000000</td>\n",
       "      <td>-6.000000</td>\n",
       "      <td>-6.000000</td>\n",
       "      <td>-6.000000</td>\n",
       "      <td>-6.000000</td>\n",
       "      <td>-6.000000</td>\n",
       "    </tr>\n",
       "    <tr>\n",
       "      <th>75%</th>\n",
       "      <td>1.106477e+07</td>\n",
       "      <td>99998.000000</td>\n",
       "      <td>8.000000</td>\n",
       "      <td>1.000000</td>\n",
       "      <td>8.000000</td>\n",
       "      <td>1.000000</td>\n",
       "      <td>2.000000</td>\n",
       "      <td>-6.000000</td>\n",
       "      <td>-6.000000</td>\n",
       "      <td>-6.000000</td>\n",
       "      <td>...</td>\n",
       "      <td>-6.000000</td>\n",
       "      <td>-6.000000</td>\n",
       "      <td>-6.000000</td>\n",
       "      <td>-6.000000</td>\n",
       "      <td>-6.000000</td>\n",
       "      <td>-6.000000</td>\n",
       "      <td>-6.000000</td>\n",
       "      <td>-6.000000</td>\n",
       "      <td>-6.000000</td>\n",
       "      <td>-6.000000</td>\n",
       "    </tr>\n",
       "    <tr>\n",
       "      <th>max</th>\n",
       "      <td>1.108703e+07</td>\n",
       "      <td>99999.000000</td>\n",
       "      <td>9.000000</td>\n",
       "      <td>3.000000</td>\n",
       "      <td>10.000000</td>\n",
       "      <td>10.000000</td>\n",
       "      <td>2.000000</td>\n",
       "      <td>2.000000</td>\n",
       "      <td>3.000000</td>\n",
       "      <td>3.000000</td>\n",
       "      <td>...</td>\n",
       "      <td>2.000000</td>\n",
       "      <td>2.000000</td>\n",
       "      <td>2.000000</td>\n",
       "      <td>2.000000</td>\n",
       "      <td>2.000000</td>\n",
       "      <td>2.000000</td>\n",
       "      <td>2.000000</td>\n",
       "      <td>2.000000</td>\n",
       "      <td>2.000000</td>\n",
       "      <td>2.000000</td>\n",
       "    </tr>\n",
       "  </tbody>\n",
       "</table>\n",
       "<p>8 rows × 180 columns</p>\n",
       "</div>"
      ],
      "text/plain": [
       "            control      omb13cbsa       division      intstatus  \\\n",
       "count  1.362450e+05  136245.000000  136245.000000  136245.000000   \n",
       "mean   1.104325e+07   62040.862857       5.478014       1.245829   \n",
       "std    2.483225e+04   35455.723682       2.556581       0.645094   \n",
       "min    1.100000e+07   12060.000000       1.000000       1.000000   \n",
       "25%    1.102171e+07   31080.000000       3.000000       1.000000   \n",
       "50%    1.104339e+07   42660.000000       5.000000       1.000000   \n",
       "75%    1.106477e+07   99998.000000       8.000000       1.000000   \n",
       "max    1.108703e+07   99999.000000       9.000000       3.000000   \n",
       "\n",
       "            intmonth        intlang        intmode       permnear  \\\n",
       "count  136245.000000  136245.000000  136245.000000  136245.000000   \n",
       "mean        7.039422       0.586686       1.165973      -5.759257   \n",
       "std         1.409371       2.328762       2.370249       1.421780   \n",
       "min         4.000000      -9.000000      -9.000000      -9.000000   \n",
       "25%         6.000000       1.000000       1.000000      -6.000000   \n",
       "50%         7.000000       1.000000       2.000000      -6.000000   \n",
       "75%         8.000000       1.000000       2.000000      -6.000000   \n",
       "max        10.000000      10.000000       2.000000       2.000000   \n",
       "\n",
       "          vacresdays     vacrntdays  ...       movforce          rmjob  \\\n",
       "count  136245.000000  136245.000000  ...  136245.000000  136245.000000   \n",
       "mean       -5.748776      -5.775280  ...      -4.383104      -4.514646   \n",
       "std         1.559736       1.386489  ...       3.260303       3.139458   \n",
       "min        -9.000000      -9.000000  ...      -9.000000      -9.000000   \n",
       "25%        -6.000000      -6.000000  ...      -6.000000      -6.000000   \n",
       "50%        -6.000000      -6.000000  ...      -6.000000      -6.000000   \n",
       "75%        -6.000000      -6.000000  ...      -6.000000      -6.000000   \n",
       "max         3.000000       3.000000  ...       2.000000       2.000000   \n",
       "\n",
       "             rmownhh       rmfamily       rmchange      rmcommute  \\\n",
       "count  136245.000000  136245.000000  136245.000000  136245.000000   \n",
       "mean       -4.547917      -4.529216      -4.515535      -4.509597   \n",
       "std         3.076451       3.112814       3.139171       3.150524   \n",
       "min        -9.000000      -9.000000      -9.000000      -9.000000   \n",
       "25%        -6.000000      -6.000000      -6.000000      -6.000000   \n",
       "50%        -6.000000      -6.000000      -6.000000      -6.000000   \n",
       "75%        -6.000000      -6.000000      -6.000000      -6.000000   \n",
       "max         2.000000       2.000000       2.000000       2.000000   \n",
       "\n",
       "              rmhome        rmcosts         rmhood        rmother  \n",
       "count  136245.000000  136245.000000  136245.000000  136245.000000  \n",
       "mean       -4.554347      -4.524151      -4.551088      -4.524247  \n",
       "std         3.064042       3.124800       3.074021       3.123453  \n",
       "min        -9.000000      -9.000000      -9.000000      -9.000000  \n",
       "25%        -6.000000      -6.000000      -6.000000      -6.000000  \n",
       "50%        -6.000000      -6.000000      -6.000000      -6.000000  \n",
       "75%        -6.000000      -6.000000      -6.000000      -6.000000  \n",
       "max         2.000000       2.000000       2.000000       2.000000  \n",
       "\n",
       "[8 rows x 180 columns]"
      ]
     },
     "execution_count": 7,
     "metadata": {},
     "output_type": "execute_result"
    }
   ],
   "source": [
    "#total column should be 180 since we drop target column\n",
    "df.describe()"
   ]
  },
  {
   "cell_type": "code",
   "execution_count": 8,
   "metadata": {},
   "outputs": [],
   "source": [
    "from sklearn.preprocessing import LabelEncoder\n",
    "\n",
    "# Extract our X and y data\n",
    "#X = df.iloc[:,0:50]\n",
    "X = df\n",
    "y = household_181[\"ratingnh\"]\n"
   ]
  },
  {
   "cell_type": "code",
   "execution_count": null,
   "metadata": {},
   "outputs": [],
   "source": [
    "#identify the feature importance\n",
    "from sklearn.ensemble import RandomForestClassifier\n",
    "from yellowbrick.model_selection import FeatureImportances\n",
    "\n",
    "model = RandomForestClassifier(n_estimators=100)\n",
    "viz = FeatureImportances(model)\n",
    "viz.fit(X, y)\n",
    "viz.show()"
   ]
  },
  {
   "cell_type": "code",
   "execution_count": null,
   "metadata": {},
   "outputs": [],
   "source": [
    "# Create a dictionary that will map the feature name with its feature importance\n",
    "feats = {}\n",
    "\n",
    "# Loop through Feature\n",
    "for feature, importance in zip(X.columns, model.feature_importances_):\n",
    "    feats[feature] = importance # Add the name/value pair\n",
    "\n",
    "# View our dictionary, but sorted in order of importance\n",
    "sorted(feats.items(), key=lambda x: x[1], reverse=True)"
   ]
  },
  {
   "cell_type": "code",
   "execution_count": null,
   "metadata": {},
   "outputs": [],
   "source": [
    "# We will pick top 50 features to be our important features\n",
    "\n",
    "features = sorted(feats.items(), key=lambda x: x[1], reverse=True)[:50]\n",
    "imp_features=[]\n",
    "for f in features:\n",
    "    imp_features.append(f[0])\n",
    "#imp_features = tuple(imp_features)"
   ]
  },
  {
   "cell_type": "code",
   "execution_count": 17,
   "metadata": {},
   "outputs": [],
   "source": [
    "LABEL_MAP = {\n",
    "    -6: \"Not Happy\",\n",
    "    -9: \"Not Happy\",\n",
    "    1: \"Not Happy\",\n",
    "    2: \"Not Happy\",\n",
    "    3: \"Not Happy\",\n",
    "    4: \"Not Happy\",\n",
    "    5: \"Not Happy\",\n",
    "    6: \"Not Happy\",\n",
    "    7: \"Happy\",\n",
    "    8: \"Happy\",\n",
    "    9: \"Happy\",\n",
    "    10: \"Happy\"\n",
    "}"
   ]
  },
  {
   "cell_type": "code",
   "execution_count": null,
   "metadata": {},
   "outputs": [],
   "source": []
  },
  {
   "cell_type": "code",
   "execution_count": 18,
   "metadata": {},
   "outputs": [],
   "source": [
    "# Convert class labels into text\n",
    "household_181[\"ratingnh\"] = household_181[\"ratingnh\"].map(LABEL_MAP)"
   ]
  },
  {
   "cell_type": "code",
   "execution_count": 20,
   "metadata": {},
   "outputs": [
    {
     "data": {
      "text/plain": [
       "0         Happy\n",
       "1         Happy\n",
       "2         Happy\n",
       "3         Happy\n",
       "4         Happy\n",
       "          ...  \n",
       "136240    Happy\n",
       "136241    Happy\n",
       "136242    Happy\n",
       "136243    Happy\n",
       "136244    Happy\n",
       "Name: ratingnh, Length: 136245, dtype: object"
      ]
     },
     "execution_count": 20,
     "metadata": {},
     "output_type": "execute_result"
    }
   ],
   "source": [
    "household_181[\"ratingnh\"]"
   ]
  },
  {
   "cell_type": "code",
   "execution_count": 19,
   "metadata": {},
   "outputs": [
    {
     "name": "stdout",
     "output_type": "stream",
     "text": [
      "(136245, 181) (136245,)\n"
     ]
    }
   ],
   "source": [
    "from sklearn.preprocessing import LabelEncoder\n",
    "\n",
    "# Extract our X and y data\n",
    "\n",
    "y = household_181[\"ratingnh\"]\n",
    "\n",
    "# Encode our target variable\n",
    "encoder = LabelEncoder().fit(y)\n",
    "y = encoder.transform(y)\n",
    "print(X.shape, y.shape)"
   ]
  },
  {
   "cell_type": "code",
   "execution_count": null,
   "metadata": {},
   "outputs": [],
   "source": [
    "from yellowbrick.features import RadViz\n",
    "\n",
    "_ = RadViz(classes=encoder.classes_, alpha=0.35).fit_transform_show(X, y)"
   ]
  },
  {
   "cell_type": "markdown",
   "metadata": {},
   "source": [
    "## Regression"
   ]
  },
  {
   "cell_type": "code",
   "execution_count": null,
   "metadata": {},
   "outputs": [],
   "source": [
    "from sklearn import metrics\n",
    "from sklearn.model_selection import KFold\n",
    "\n",
    "from sklearn.linear_model import SGDClassifier\n",
    "from sklearn import linear_model"
   ]
  },
  {
   "cell_type": "code",
   "execution_count": null,
   "metadata": {},
   "outputs": [],
   "source": [
    "def get_internal_params(model):\n",
    "    for attr in dir(model):\n",
    "        if attr.endswith(\"_\") and not attr.startswith(\"_\"):\n",
    "            print(attr, getattr(model, attr))"
   ]
  },
  {
   "cell_type": "code",
   "execution_count": null,
   "metadata": {},
   "outputs": [],
   "source": [
    "#Perform SGD Classifier\n",
    "\n",
    "model = SGDClassifier(loss=\"hinge\", penalty=\"l2\", max_iter=100)\n",
    "model.fit(X,y)\n",
    "get_internal_params(model)"
   ]
  },
  {
   "cell_type": "code",
   "execution_count": null,
   "metadata": {},
   "outputs": [],
   "source": [
    "# Perform  Lasso Classifier Classification\n",
    "\n",
    "model = linear_model.Ridge(alpha=1)\n",
    "model.fit(X,y)\n",
    "get_internal_params(model)"
   ]
  },
  {
   "cell_type": "code",
   "execution_count": null,
   "metadata": {},
   "outputs": [],
   "source": []
  },
  {
   "cell_type": "code",
   "execution_count": null,
   "metadata": {},
   "outputs": [],
   "source": []
  }
 ],
 "metadata": {
  "kernelspec": {
   "display_name": "Python 3",
   "language": "python",
   "name": "python3"
  },
  "language_info": {
   "codemirror_mode": {
    "name": "ipython",
    "version": 3
   },
   "file_extension": ".py",
   "mimetype": "text/x-python",
   "name": "python",
   "nbconvert_exporter": "python",
   "pygments_lexer": "ipython3",
   "version": "3.6.9"
  }
 },
 "nbformat": 4,
 "nbformat_minor": 2
}
