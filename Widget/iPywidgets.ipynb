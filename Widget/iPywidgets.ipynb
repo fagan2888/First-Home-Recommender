{
 "cells": [
  {
   "cell_type": "code",
   "execution_count": 57,
   "metadata": {},
   "outputs": [],
   "source": [
    "import psycopg2\n",
    "import pandas as pd\n",
    "\n",
    "import re\n",
    "from ipywidgets import interact, interactive, Layout, interactive_output,VBox\n",
    "import ipywidgets as widgets\n",
    "from IPython.display import display, HTML\n",
    "from ipywidgets import HBox, Label, FloatSlider,Dropdown,IntSlider,RadioButtons, Box, Layout\n",
    "import numpy as np\n",
    "import pandas as pd\n",
    "from scipy import stats\n",
    "import matplotlib.pyplot as plt\n",
    "import matplotlib\n",
    "\n",
    "\n",
    "from sklearn.model_selection import train_test_split\n",
    "from sklearn.ensemble import GradientBoostingClassifier\n",
    "import pickle"
   ]
  },
  {
   "cell_type": "code",
   "execution_count": 58,
   "metadata": {},
   "outputs": [],
   "source": [
    "conn = psycopg2.connect( \n",
    "                        host = 'project.cgxhdwn5zb5t.us-east-1.rds.amazonaws.com',\n",
    "                        port = 5432, \n",
    "                        user = 'postgres',\n",
    "                        password = 'Admin123',\n",
    "                        database = 'postgres')\n",
    "cursor = conn.cursor()"
   ]
  },
  {
   "cell_type": "code",
   "execution_count": 59,
   "metadata": {},
   "outputs": [],
   "source": [
    "DEC2FLOAT = psycopg2.extensions.new_type(\n",
    "    psycopg2.extensions.DECIMAL.values,\n",
    "    'DEC2FLOAT',\n",
    "    lambda value, curs: float(value) if value is not None else None)\n",
    "psycopg2.extensions.register_type(DEC2FLOAT)"
   ]
  },
  {
   "cell_type": "code",
   "execution_count": 60,
   "metadata": {},
   "outputs": [],
   "source": [
    "cursor.execute('Select * from \"ahshouseholdclass2\"')\n",
    "rows = cursor.fetchall()\n",
    "col_names = []\n",
    "for elt in cursor.description:\n",
    "    col_names.append(elt[0])\n",
    "\n",
    "df = pd.DataFrame(data=rows, columns=col_names )"
   ]
  },
  {
   "cell_type": "markdown",
   "metadata": {},
   "source": [
    "First, import our data and our prebuilt model."
   ]
  },
  {
   "cell_type": "code",
   "execution_count": 61,
   "metadata": {},
   "outputs": [],
   "source": [
    "predictors = list(df[['HHAGE', 'HINCP_BIN', 'UTILAMT','UNITSIZE','NUMPEOPLE','BEDROOMS', \n",
    "        'PERPOVLVL',  'ELECAMT', 'GASAMT', \n",
    "        'TRASHAMT', 'WATERAMT', 'OMB13CBSA','STORIES', 'HHNATVTY'\n",
    "       ]])\n",
    "\n",
    "loaded_model = pickle.load(open('test_model.sav', 'rb'))"
   ]
  },
  {
   "cell_type": "markdown",
   "metadata": {},
   "source": [
    "Next, establish the variables and functions required for our visualization."
   ]
  },
  {
   "cell_type": "code",
   "execution_count": 62,
   "metadata": {},
   "outputs": [],
   "source": [
    "#interval variables\n",
    "IV=['HHAGE', 'UTILAMT','NUMPEOPLE','BEDROOMS','HINCP_BIN',]\n",
    "#categorical variables\n",
    "CV=[ 'OMB13CBSA','UNITSIZE' ]"
   ]
  },
  {
   "cell_type": "code",
   "execution_count": 63,
   "metadata": {},
   "outputs": [],
   "source": [
    "# load the model from pickle and predict according to user-input\n",
    "def load_model(age, utilamt, income, unitsize, number_of_ppl, bedrooms, region):\n",
    "\n",
    "    #set the avg on non-widget inputs\n",
    "    User_input=df[predictors].iloc[0]\n",
    "    User_input['PERPOVLVL']= df['PERPOVLVL'].mean()\n",
    "    User_input['ELECAMT']= df['ELECAMT'].mean()\n",
    "    User_input['GASAMT']= df['GASAMT'].mean()\n",
    "    User_input['TRASHAMT']= df['TRASHAMT'].mean()\n",
    "    User_input['WATERAMT']= df['WATERAMT'].mean()\n",
    "    #User_input['OMB13CBSA']= df['OMB13CBSA'].mean()\n",
    "    User_input['STORIES']= df['STORIES'].mean()\n",
    "    User_input['HHNATVTY']= df['HHNATVTY'].mean()\n",
    "    \n",
    "    \n",
    "    #interval variables\n",
    "    User_input['age'] = age\n",
    "    User_input['utilamt']= utilamt\n",
    "    User_input['num_of_ppl']= number_of_ppl\n",
    "    User_input['bedrooms']= bedrooms\n",
    "\n",
    "    #categorical variables\n",
    "    User_input[income]=1\n",
    "    User_input[region]=35\n",
    "    User_input[unitsize]=1\n",
    "\n",
    "    user_proba=loaded_model.predict_proba([User_input])[:,1]\n",
    "    #result = loaded_model.score(X_test, y_test)\n",
    "    #print(result)\n",
    "     \n",
    "    #show the histgram\n",
    "    #plt.figure(figsize=(15,5))\n",
    "    #plt.yticks([])\n",
    "    #plt.ylabel(\"Frequency of Predicted Instances\")\n",
    "    #plt.hist(df_test[df_test['shock']==0][\"probability of income shock\"],bins, alpha=.9, label='No Shock',color=\"#259433\")  \n",
    "    #plt.hist(df_test[df_test['shock']==1][\"probability of income shock\"],bins,alpha=0.7, label='Shock', color=\"#ff4940\")\n",
    "    #plt.axvline(user_proba,0,3000, linewidth=1)\n",
    "    #plt.xticks([user_proba,user_proba])\n",
    "    #plt.legend()\n",
    "    #plt.show()\n",
    "\n",
    "    return\n",
    "\n",
    "style={'description_width' :\"initial\"}\n",
    "age=widgets.IntSlider(value=30, min=15,max=90,description='Age', layout=Layout(flex='1 1 auto', width='auto'),style=style, continuous_update=False)\n",
    "utilamt=widgets.IntSlider(value=250, min=0,max=10500,description='Utility Amt',style=style, continuous_update=False)\n",
    "number_of_ppl=widgets.IntSlider(value=1, min=1,max=20,description='Number of People',style=style, continuous_update=False)\n",
    "bedrooms=widgets.IntSlider(value=0, min=0,max=10, layout=Layout(flex='1 1 auto', width='auto'),description='Bedrooms',style=style, continuous_update=False)\n",
    "\n",
    "unitsize=widgets.Dropdown(value='unitsize',style=style, description=\"Unit Size\",disabled=False,layout=Layout(flex='1 1 auto', width='auto'),\n",
    "                       options=[(\"Less than 500 square feet\", 'unitsize'),\n",
    "                              (\"500 to 749 square feet\", 'unitsize'),\n",
    "                              ('750 to 999 square feet','unitsize'),\n",
    "                              ('1,000 to 1,499 square feet','unitsize'),\n",
    "                              ('1,500 to 1,999 square feet','unitsize'),\n",
    "                              ('2,000 to 2,499 square feet','unitsize'),\n",
    "                              ('2,500 to 2,999 square feet','unitsize'),\n",
    "                              ('3,000 to 3,999 square feet','unitsize'),\n",
    "                              ('4,000 square feet or more','unitsize')])\n",
    "\n",
    "region=widgets.Dropdown(value='region',style=style, description=\"Region\",disabled=False,\n",
    "                    options=[(\"Atlanta-Sandy Springs-Roswell, GA\",'region'),\n",
    "                            (\"Baltimore-Columbia-Towson, MD\",'region'),\n",
    "                            ('Birmingham-Hoover, AL','region'),\n",
    "                            ('Boston-Cambridge-Newton, MA-NH','region'),\n",
    "                            ('Chicago-Naperville-Elgin, IL-IN-WI','region'),\n",
    "                            ('Cincinnati, OH-KY-IN','region'),\n",
    "                            ('Cleveland-Elyria, OH','region'),\n",
    "                            ('Dallas-Fort Worth-Arlington, TX', 'region'),\n",
    "                            ('Denver-Aurora-Lakewood, CO','region'),\n",
    "                            ('Detroit-Warren-Dearborn, MI','region'),\n",
    "                            ('Houston-The Woodlands-Sugar Land, TX','region'),\n",
    "                            ('Kansas City, MO-KS','region'),\n",
    "                            ('Las Vegas-Henderson-Paradise, NV','region'),\n",
    "                            ('Los Angeles-Long Beach-Anaheim, CA','region'),\n",
    "                            ('Memphis, TN-MS-AR','region'),\n",
    "                            ('Miami-Fort Lauderdale-West Palm Beach, FL','region'),\n",
    "                            ('Milwaukee-Waukesha-West Allis, WI','region'),\n",
    "                            ('Minneapolis-St. Paul-Bloomington, MN-WI','region'),\n",
    "                            ('New Orleans-Metairie, LA','region'),\n",
    "                            ('New York-Newark-Jersey City, NY-NJ-PA','region'),\n",
    "                            ('Oklahoma City, OK','region'),\n",
    "                            ('Philadelphia-Camden-Wilmington, PA-NJ-DE-MD','region'),\n",
    "                            ('Phoenix-Mesa-Scottsdale, AZ', 'region'),\n",
    "                            ('Pittsburgh, PA','region'),\n",
    "                            ('Portland-Vancouver-Hillsboro, OR-WA','region'),\n",
    "                            ('Raleigh, NC','region'),\n",
    "                            ('Richmond, VA','region'),\n",
    "                            ('Riverside-San Bernardino-Ontario, CA','region'),\n",
    "                            ('Rochester, NY','region'),\n",
    "                            ('San Antonio-New Braunfels, TX','region'),\n",
    "                            ('San Francisco-Oakland-Hayward, CA','region'),\n",
    "                            ('San Jose-Sunnyvale-Santa Clara, CA','region'),\n",
    "                            ('Seattle-Tacoma-Bellevue, WA','region'),\n",
    "                            ('Tampa-St. Petersburg-Clearwater, FL','region'),\n",
    "                            ('Seattle-Tacoma-Bellevue, WA','region'),\n",
    "                            ('Washington-Arlington-Alexandria, DC-VA-MD-WV','region'),\n",
    "                            ('All other metropolitan areas','region'),\n",
    "                            ('Not in a metropolitan area','region')])\n",
    "\n",
    "\n",
    "income=widgets.Dropdown(value='income',style=style, description=\"Income\",disabled=False,\n",
    "                  options=[('(0.0, 10000.0]', 'income'),\n",
    "                       ('(10000.0, 20000.0]', 'income'),\n",
    "                       ('(20000.0, 30000.0]', 'income'),\n",
    "                       ('(30000.0, 40000.0]', 'income'),\n",
    "                       ('(40000.0, 50000.0]','income'),\n",
    "                       ('(50000.0, 60000.0]', 'income'),\n",
    "                       ('(60000.0, 70000.0]','income'),\n",
    "                       ('(70000.0, 80000.0]',  'income' ),\n",
    "                       ('(80000.0, 90000.0]', 'income'),\n",
    "                       ('(90000.0, 100000.0]', 'income')])\n"
   ]
  },
  {
   "cell_type": "code",
   "execution_count": 64,
   "metadata": {},
   "outputs": [
    {
     "data": {
      "application/vnd.jupyter.widget-view+json": {
       "model_id": "6f9f340ce89448aaba886c33a1cf30ed",
       "version_major": 2,
       "version_minor": 0
      },
      "text/plain": [
       "VBox(children=(HBox(children=(VBox(children=(IntSlider(value=30, continuous_update=False, description='Age', l…"
      ]
     },
     "metadata": {},
     "output_type": "display_data"
    }
   ],
   "source": [
    "left_box=VBox([age,income,number_of_ppl,region])\n",
    "right_box=VBox([bedrooms,unitsize,utilamt])\n",
    "ui=widgets.HBox([left_box, right_box])\n",
    "output=widgets.interactive_output(load_model,{'age':age,'number_of_ppl':number_of_ppl, 'utilamt':utilamt,'bedrooms':bedrooms\n",
    "                                              ,'income':income,'region':region, 'unitsize':unitsize\n",
    "                                             })\n",
    "output.layout.height=\"400px\"\n",
    "output.layout.width='800px'\n",
    "box=widgets.VBox([ui,output])\n",
    "display(box)\n"
   ]
  },
  {
   "cell_type": "code",
   "execution_count": null,
   "metadata": {},
   "outputs": [],
   "source": []
  },
  {
   "cell_type": "code",
   "execution_count": null,
   "metadata": {},
   "outputs": [],
   "source": []
  }
 ],
 "metadata": {
  "kernelspec": {
   "display_name": "Python 3",
   "language": "python",
   "name": "python3"
  },
  "language_info": {
   "codemirror_mode": {
    "name": "ipython",
    "version": 3
   },
   "file_extension": ".py",
   "mimetype": "text/x-python",
   "name": "python",
   "nbconvert_exporter": "python",
   "pygments_lexer": "ipython3",
   "version": "3.7.3"
  }
 },
 "nbformat": 4,
 "nbformat_minor": 2
}
