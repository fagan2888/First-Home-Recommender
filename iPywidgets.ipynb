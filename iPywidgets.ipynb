{
 "cells": [
  {
   "cell_type": "code",
   "execution_count": 17,
   "metadata": {},
   "outputs": [],
   "source": [
    "import psycopg2\n",
    "import pandas as pd\n",
    "\n",
    "import re\n",
    "from ipywidgets import interact, interactive, Layout, interactive_output,VBox\n",
    "import ipywidgets as widgets\n",
    "from IPython.display import display, HTML\n",
    "from ipywidgets import HBox, Label, FloatSlider,Dropdown,IntSlider,RadioButtons, Box, Layout\n",
    "import numpy as np\n",
    "import pandas as pd\n",
    "from scipy import stats\n",
    "import matplotlib.pyplot as plt\n",
    "import matplotlib\n",
    "\n",
    "\n",
    "from sklearn.model_selection import train_test_split\n",
    "from sklearn.ensemble import GradientBoostingClassifier\n",
    "import pickle"
   ]
  },
  {
   "cell_type": "code",
   "execution_count": 18,
   "metadata": {},
   "outputs": [],
   "source": [
    "conn = psycopg2.connect( \n",
    "                        host = 'project.cgxhdwn5zb5t.us-east-1.rds.amazonaws.com',\n",
    "                        port = 5432, \n",
    "                        user = 'postgres',\n",
    "                        password = 'Admin123',\n",
    "                        database = 'postgres')\n",
    "cursor = conn.cursor()"
   ]
  },
  {
   "cell_type": "code",
   "execution_count": 19,
   "metadata": {},
   "outputs": [],
   "source": [
    "DEC2FLOAT = psycopg2.extensions.new_type(\n",
    "    psycopg2.extensions.DECIMAL.values,\n",
    "    'DEC2FLOAT',\n",
    "    lambda value, curs: float(value) if value is not None else None)\n",
    "psycopg2.extensions.register_type(DEC2FLOAT)"
   ]
  },
  {
   "cell_type": "code",
   "execution_count": 20,
   "metadata": {},
   "outputs": [],
   "source": [
    "cursor.execute('Select * from \"ahshouseholdclass2\"')\n",
    "rows = cursor.fetchall()\n",
    "col_names = []\n",
    "for elt in cursor.description:\n",
    "    col_names.append(elt[0])\n",
    "\n",
    "df = pd.DataFrame(data=rows, columns=col_names )"
   ]
  },
  {
   "cell_type": "markdown",
   "metadata": {},
   "source": [
    "First, import our data and our prebuilt model."
   ]
  },
  {
   "cell_type": "code",
   "execution_count": 21,
   "metadata": {},
   "outputs": [],
   "source": [
    "predictors = list(df[['HHAGE', 'HINCP_BIN', 'UTILAMT','UNITSIZE','NUMPEOPLE','BEDROOMS', \n",
    "        'PERPOVLVL',  'ELECAMT', 'GASAMT', \n",
    "        'TRASHAMT', 'WATERAMT', 'OMB13CBSA','STORIES', 'HHNATVTY'\n",
    "       ]])\n",
    "\n",
    "loaded_model = pickle.load(open('test_model.sav', 'rb'))"
   ]
  },
  {
   "cell_type": "markdown",
   "metadata": {},
   "source": [
    "Next, establish the variables and functions required for our visualization."
   ]
  },
  {
   "cell_type": "code",
   "execution_count": 22,
   "metadata": {},
   "outputs": [],
   "source": [
    "IV=['HHAGE', 'UTILAMT','NUMPEOPLE','BEDROOMS']\n",
    "CV=['HINCP_BIN', 'OMB13CBSA','UNITSIZE' ]"
   ]
  },
  {
   "cell_type": "code",
   "execution_count": 36,
   "metadata": {},
   "outputs": [],
   "source": [
    "# load the model from pickle and predict according to user-input\n",
    "def load_model(age, utilamt, income, unitsize, number_of_ppl, bedrooms, region):\n",
    "\n",
    "    #set the avg on non-widget inputs\n",
    "    User_input=df[predictors].iloc[0]\n",
    "    User_input['PERPOVLVL']= df['PERPOVLVL'].mean()\n",
    "    User_input['ELECAMT']= df['ELECAMT'].mean()\n",
    "    User_input['GASAMT']= df['GASAMT'].mean()\n",
    "    User_input['TRASHAMT']= df['TRASHAMT'].mean()\n",
    "    User_input['WATERAMT']= df['WATERAMT'].mean()\n",
    "    #User_input['OMB13CBSA']= df['OMB13CBSA'].mean()\n",
    "    User_input['STORIES']= df['STORIES'].mean()\n",
    "    User_input['HHNATVTY']= df['HHNATVTY'].mean()\n",
    "    \n",
    "    \n",
    "    #interval variables\n",
    "    User_input['HHAGE'] = age\n",
    "    User_input['UTILAMT']= utilamt\n",
    "    User_input['NUMPEOPLE']= number_of_ppl\n",
    "    User_input['BEDROOMS']= bedrooms\n",
    "\n",
    "    #categorical variables\n",
    "    User_input[income]=1\n",
    "    User_input[region]=1\n",
    "    User_input[unitsize]=1\n",
    "\n",
    "    user_proba=loaded_model.predict_proba([User_input])[:,1]\n",
    "     \n",
    "    #show the histgram\n",
    "    plt.figure(figsize=(15,5))\n",
    "    plt.yticks([])\n",
    "    plt.ylabel(\"Frequency of Predicted Instances\")\n",
    "    plt.hist(df_test[df_test['shock']==0][\"probability of income shock\"],bins, alpha=.9, label='No Shock',color=\"#259433\")  \n",
    "    plt.hist(df_test[df_test['shock']==1][\"probability of income shock\"],bins,alpha=0.7, label='Shock', color=\"#ff4940\")\n",
    "    plt.axvline(user_proba,0,3000, linewidth=1)\n",
    "    plt.xticks([user_proba,user_proba])\n",
    "    plt.legend()\n",
    "    plt.show()\n",
    "\n",
    "    return\n",
    "\n",
    "style={'description_width' :\"initial\"}\n",
    "age=widgets.IntSlider(value=30, min=18,max=58,description='Age', layout=Layout(flex='1 1 auto', width='auto'),style=style, continuous_update=False)\n",
    "utilamt=widgets.IntSlider(value=250, min=0,max=20000,description='Utility Amt',style=style, continuous_update=False)\n",
    "number_of_ppl=widgets.IntSlider(value=1, min=1,max=20,description='Number of People',style=style, continuous_update=False)\n",
    "bedrooms=widgets.IntSlider(value=0, min=0,max=10, layout=Layout(flex='1 1 auto', width='auto'),description='Bedrooms',style=style, continuous_update=False)\n",
    "\n",
    "unitsize=widgets.Dropdown(value='UNITSIZE',style=style, description=\"Unit Size\",disabled=False,layout=Layout(flex='1 1 auto', width='auto'),\n",
    "                       options=[('Less than 500 square feet','UNITSIZE'),\n",
    "                               ('500 to 749 square feet','UNITSIZE'),\n",
    "                              ('750 to 999 square feet','UNITSIZE'),\n",
    "                              ('1,000 to 1,499 square feet','UNITSIZE'),\n",
    "                              ('1,500 to 1,999 square feet','UNITSIZE'),\n",
    "                              ('2,000 to 2,499 square feet','UNITSIZE'),\n",
    "                              ('2,500 to 2,999 square feet','UNITSIZE'),\n",
    "                              ('3,000 to 3,999 square feet','UNITSIZE'),\n",
    "                              ('4,000 square feet or more','UNITSIZE')])\n",
    "\n",
    "region=widgets.Dropdown(value='OMB13CBSA',style=style, description=\"Region\",disabled=False,\n",
    "                    options=[(\"Atlanta-Sandy Springs-Roswell, GA\",'OMB13CBSA'),\n",
    "                            (\"Baltimore-Columbia-Towson, MD\",'OMB13CBSA'),\n",
    "                            ('Birmingham-Hoover, AL','OMB13CBSA'),\n",
    "                            ('Boston-Cambridge-Newton, MA-NH','OMB13CBSA'),\n",
    "                            ('Chicago-Naperville-Elgin, IL-IN-WI','OMB13CBSA'),\n",
    "                            ('Cincinnati, OH-KY-IN','OMB13CBSA'),\n",
    "                            ('Cleveland-Elyria, OH','OMB13CBSA'),\n",
    "                            ('Dallas-Fort Worth-Arlington, TX', 'OMB13CBSA'),\n",
    "                            ('Denver-Aurora-Lakewood, CO','OMB13CBSA'),\n",
    "                            ('Detroit-Warren-Dearborn, MI','OMB13CBSA'),\n",
    "                            ('Houston-The Woodlands-Sugar Land, TX','OMB13CBSA'),\n",
    "                            ('Kansas City, MO-KS','OMB13CBSA'),\n",
    "                            ('Las Vegas-Henderson-Paradise, NV','OMB13CBSA'),\n",
    "                            ('Los Angeles-Long Beach-Anaheim, CA','OMB13CBSA'),\n",
    "                            ('Memphis, TN-MS-AR','OMB13CBSA'),\n",
    "                            ('Miami-Fort Lauderdale-West Palm Beach, FL','OMB13CBSA'),\n",
    "                            ('Milwaukee-Waukesha-West Allis, WI','OMB13CBSA'),\n",
    "                            ('Minneapolis-St. Paul-Bloomington, MN-WI','OMB13CBSA'),\n",
    "                            ('New Orleans-Metairie, LA','OMB13CBSA'),\n",
    "                            ('New York-Newark-Jersey City, NY-NJ-PA','OMB13CBSA'),\n",
    "                            ('Oklahoma City, OK','OMB13CBSA'),\n",
    "                            ('Philadelphia-Camden-Wilmington, PA-NJ-DE-MD','OMB13CBSA'),\n",
    "                            ('Phoenix-Mesa-Scottsdale, AZ', 'OMB13CBSA'),\n",
    "                            ('Pittsburgh, PA','OMB13CBSA'),\n",
    "                            ('Portland-Vancouver-Hillsboro, OR-WA','OMB13CBSA'),\n",
    "                            ('Raleigh, NC','OMB13CBSA'),\n",
    "                            ('Richmond, VA','OMB13CBSA'),\n",
    "                            ('Riverside-San Bernardino-Ontario, CA','OMB13CBSA'),\n",
    "                            ('Rochester, NY','OMB13CBSA'),\n",
    "                            ('San Antonio-New Braunfels, TX','OMB13CBSA'),\n",
    "                            ('San Francisco-Oakland-Hayward, CA','OMB13CBSA'),\n",
    "                            ('San Jose-Sunnyvale-Santa Clara, CA','OMB13CBSA'),\n",
    "                            ('Seattle-Tacoma-Bellevue, WA','OMB13CBSA'),\n",
    "                            ('Tampa-St. Petersburg-Clearwater, FL','OMB13CBSA'),\n",
    "                            ('Seattle-Tacoma-Bellevue, WA','OMB13CBSA'),\n",
    "                            ('Washington-Arlington-Alexandria, DC-VA-MD-WV','OMB13CBSA'),\n",
    "                            ('All other metropolitan areas','OMB13CBSA'),\n",
    "                            ('Not in a metropolitan area','OMB13CBSA')])\n",
    "\n",
    "income=widgets.Dropdown(value='HINCP_BIN',style=style, description=\"Income\",disabled=False,\n",
    "                  options=[('(0.0, 10000.0] ','HINCP_BIN'),\n",
    "                       ('(10000.0, 20000.0]', 'HINCP_BIN'),\n",
    "                       ('(20000.0, 30000.0]','HINCP_BIN'),\n",
    "                       ('(30000.0, 40000.0]','HINCP_BIN'),\n",
    "                       ('(40000.0, 50000.0]','HINCP_BIN'),\n",
    "                       ('(50000.0, 60000.0]', 'HINCP_BIN'),\n",
    "                       ('(60000.0, 70000.0]','HINCP_BIN'),\n",
    "                       ('(70000.0, 80000.0]',  'HINCP_BIN' ),\n",
    "                       ('(80000.0, 90000.0]', 'HINCP_BIN'),\n",
    "                       ('(90000.0, 100000.0]', 'HINCP_BIN')])\n"
   ]
  },
  {
   "cell_type": "code",
   "execution_count": 37,
   "metadata": {},
   "outputs": [
    {
     "data": {
      "application/vnd.jupyter.widget-view+json": {
       "model_id": "b34bf79b96754ac2940dacf01ca11b44",
       "version_major": 2,
       "version_minor": 0
      },
      "text/plain": [
       "VBox(children=(HBox(children=(VBox(children=(IntSlider(value=30, continuous_update=False, description='Age', l…"
      ]
     },
     "metadata": {},
     "output_type": "display_data"
    }
   ],
   "source": [
    "left_box=VBox([age,income,number_of_ppl,region])\n",
    "right_box=VBox([bedrooms,unitsize,utilamt])\n",
    "ui=widgets.HBox([left_box, right_box])\n",
    "output=widgets.interactive_output(load_model,{'HHAGE':age,'HINCP_BIN':income,'NUMPEOPLE':number_of_ppl, 'UTILAMT':utilamt,'BEDROOMS':bedrooms,'OMB13CBSA':region, 'UNITSIZE':unitsize})\n",
    "output.layout.height=\"400px\"\n",
    "output.layout.width='800px'\n",
    "box=widgets.VBox([ui,output])\n",
    "display(box)\n"
   ]
  },
  {
   "cell_type": "code",
   "execution_count": null,
   "metadata": {},
   "outputs": [],
   "source": []
  }
 ],
 "metadata": {
  "kernelspec": {
   "display_name": "Python 3",
   "language": "python",
   "name": "python3"
  },
  "language_info": {
   "codemirror_mode": {
    "name": "ipython",
    "version": 3
   },
   "file_extension": ".py",
   "mimetype": "text/x-python",
   "name": "python",
   "nbconvert_exporter": "python",
   "pygments_lexer": "ipython3",
   "version": "3.7.3"
  }
 },
 "nbformat": 4,
 "nbformat_minor": 2
}
